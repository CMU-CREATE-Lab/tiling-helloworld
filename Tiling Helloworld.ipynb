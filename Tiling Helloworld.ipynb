{
 "metadata": {
  "name": "",
  "signature": "sha256:425bc33e48e81aa81569bb1ce4bf78ad478c6a1e25f8a610892c13e0ef53337b"
 },
 "nbformat": 3,
 "nbformat_minor": 0,
 "worksheets": [
  {
   "cells": [
    {
     "cell_type": "code",
     "collapsed": false,
     "input": [
      "import array, csv, math, random, os\n",
      "\n",
      "class MapTiler(object):\n",
      "    def __init__(self, tileSize=256):\n",
      "        self.tileSize = tileSize\n",
      "\n",
      "    # Lon Lat to Web Mercator\n",
      "    def LonLatToPixelXY(self, lon, lat):\n",
      "        x = (lon + 180.0) * self.tileSize / 360.0\n",
      "        y = (self.tileSize/2.0) - math.log(math.tan((lat + 90.0) * math.pi / 360.0)) * (self.tileSize/2.0) / math.pi\n",
      "        return x, y\n",
      "\n",
      "    # Web Mercator to Lon Lat\n",
      "    def PixelXYToLonLat(self, x, y):\n",
      "        lat = math.atan(math.exp(((self.tileSize/2.0) - y) * math.pi / (self.tileSize/2.0))) * 360.0 / math.pi - 90.0\n",
      "        lon = x * 360.0 / self.tileSize - 180.0\n",
      "        return lon, lat\n",
      "\n",
      "    # Lon Lat to level, column, row\n",
      "    def LonLatToTileCoords(self, lon, lat, z):\n",
      "        lat_rad = math.radians(lat)\n",
      "        n = 2.0 ** z\n",
      "        xtile = int((lon + 180.0) / 360.0 * n)\n",
      "        ytile = int((1.0 - math.log(math.tan(lat_rad) + (1 / math.cos(lat_rad))) / math.pi) / 2.0 * n)\n",
      "        return z, xtile, ytile\n",
      "\n",
      "def init_capture(capture_dir):\n",
      "    # Create capture dir if it doesn't exist\n",
      "    if not os.path.exists(capture_dir):\n",
      "        os.makedirs(capture_dir)\n",
      "        \n",
      "def download_file(url, filename):\n",
      "    command = \"wget %s -O %s\" % (url, filename)\n",
      "    print \"Downloading %s to %s\" % (url, filename)\n",
      "    !$command\n",
      "    \n",
      "def write_tile(rows, total, tiler, zoomlevel, outputdir):\n",
      "    for row in rows[0:total]:\n",
      "        lon,lat = tiler.PixelXYToLonLat(float(row['w_x']), float(row['w_y'])) # Using the work location, could be anything\n",
      "        z,r,c = tiler.LonLatToTileCoords(lon, lat, zoomlevel)\n",
      "        tile = \"%s/%s/%s/%s.csv\" % (outputdir,z,r,c)\n",
      "        if not os.path.exists(os.path.dirname(tile)):\n",
      "            try:\n",
      "                os.makedirs(os.path.dirname(tile))\n",
      "            except OSError as exc:\n",
      "                if exc.errno == errno.EEXIST and os.path.isdir(path):\n",
      "                    pass\n",
      "                else: raise\n",
      "\n",
      "        if not os.path.exists(tile):\n",
      "            csvfile = open(tile, \"w\")\n",
      "            writer = csv.DictWriter(csvfile, fieldnames=fieldnames)\n",
      "            writer.writeheader() \n",
      "            csvfile.close\n",
      "        else:        \n",
      "            csvfile = open(tile, \"a\")\n",
      "            writer = csv.DictWriter(csvfile, fieldnames=fieldnames)\n",
      "            writer.writerow(row)\n",
      "            csvfile.close\n"
     ],
     "language": "python",
     "metadata": {},
     "outputs": []
    },
    {
     "cell_type": "code",
     "collapsed": false,
     "input": [
      "# Download a CSV file containing PA LODES data\n",
      "init_capture(\"capture\")\n",
      "download_file(\"http://data.cmucreatelab.org/lodes/csv/pa-od-jt00-2011.csv\", \"capture/pa-od-jt00-2011.csv\")"
     ],
     "language": "python",
     "metadata": {},
     "outputs": []
    },
    {
     "cell_type": "code",
     "collapsed": false,
     "input": [
      "# Open the CSV file and read them into a list\n",
      "rows = []\n",
      "with open(\"capture/pa-od-jt00-2011.csv\") as f:\n",
      "        reader = csv.DictReader(f)\n",
      "        for row in reader:\n",
      "            rows.append(row)"
     ],
     "language": "python",
     "metadata": {},
     "outputs": []
    },
    {
     "cell_type": "code",
     "collapsed": false,
     "input": [
      "# randomize the points\n",
      "random.shuffle(rows)"
     ],
     "language": "python",
     "metadata": {},
     "outputs": []
    },
    {
     "cell_type": "code",
     "collapsed": false,
     "input": [
      "# Decompose the CSV data into tiles\n",
      "tiler = MapTiler()\n",
      "fieldnames = ['w_x', 'w_y', 'h_x', 'h_y', 'distance', 'color']\n",
      "zoomlevel = 10  # Largest zoom level\n",
      "subsamples = [] # list for subsample rates per zoom level\n",
      "totals = []\n",
      "zooms = list(reversed(range(zoomlevel+1))) # List of zoom levels\n",
      "outputdir = \"capture/pa-lodes\"\n",
      "init_capture(outputdir)\n",
      "for i in range(0,len(zooms)):\n",
      "    s = 1.0/(min(1024,pow(4,i))) # This could be different. E.g. Larger or smaller subsample rates\n",
      "    subsamples.append(s)\n",
      "    totals.append(int(math.floor(len(rows) * s)))\n",
      "    write_tile(rows, totals[i], tiler, zooms[i], outputdir)"
     ],
     "language": "python",
     "metadata": {},
     "outputs": []
    },
    {
     "cell_type": "code",
     "collapsed": false,
     "input": [
      "# Convert the CSV tiles into bin tiles\n",
      "for root, dirs, files in os.walk(\"capture/pa-lodes\"):\n",
      "    for name in files:\n",
      "        if not name.lower().endswith((\".csv\")):\n",
      "            continue\n",
      "        src = os.path.join(root, name)\n",
      "        filename, ext = os.path.splitext(name)\n",
      "        dest = os.path.join(root, filename + '.bin')\n",
      "        csvfile = open(src, 'rb')\n",
      "        reader = csv.DictReader(csvfile)\n",
      "        data = []\n",
      "        for row in reader:\n",
      "            data.append(float(row['w_x']))\n",
      "            data.append(float(row['w_y']))\n",
      "            data.append(float(row['h_x']))\n",
      "            data.append(float(row['h_y']))\n",
      "            data.append(float(row['distance']))\n",
      "            data.append(float(row['color']))\n",
      "        csvfile.close()\n",
      "        array.array('f', data).tofile(open(dest, 'w'))"
     ],
     "language": "python",
     "metadata": {},
     "outputs": []
    },
    {
     "cell_type": "code",
     "collapsed": false,
     "input": [
      "# Copy tiling-helloworld.html into the dir of a working version of data-visualization-tools/examples/webgl-timemachine\n",
      "# Example on my system $ cp tiling-helloworld.html ~Code/data-visualization-tools/examples/webgl-timemachine\n",
      "# Edit the tiling-helloworld.html in such a way that the lodesUrl var points to the tiles you've generated\n"
     ],
     "language": "python",
     "metadata": {},
     "outputs": [],
     "prompt_number": 54
    },
    {
     "cell_type": "code",
     "collapsed": false,
     "input": [],
     "language": "python",
     "metadata": {},
     "outputs": []
    }
   ],
   "metadata": {}
  }
 ]
}